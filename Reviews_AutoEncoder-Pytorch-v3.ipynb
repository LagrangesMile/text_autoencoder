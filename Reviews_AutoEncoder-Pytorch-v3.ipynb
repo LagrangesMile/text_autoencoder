{
 "cells": [
  {
   "cell_type": "code",
   "execution_count": 1,
   "metadata": {},
   "outputs": [],
   "source": [
    "%matplotlib inline"
   ]
  },
  {
   "cell_type": "code",
   "execution_count": 2,
   "metadata": {},
   "outputs": [
    {
     "name": "stdout",
     "output_type": "stream",
     "text": [
      "is_cuda: True\n"
     ]
    },
    {
     "data": {
      "text/html": [
       "<style>body {\n",
       "    margin: 0;\n",
       "    font-family: Helvetica;\n",
       "}\n",
       "table.dataframe {\n",
       "    border-collapse: collapse;\n",
       "    border: none;\n",
       "}\n",
       "table.dataframe tr {\n",
       "    border: none;\n",
       "}\n",
       "table.dataframe td, table.dataframe th {\n",
       "    margin: 0;\n",
       "    border: 1px solid white;\n",
       "    padding-left: 0.25em;\n",
       "    padding-right: 0.25em;\n",
       "}\n",
       "table.dataframe th:not(:empty) {\n",
       "    background-color: #fec;\n",
       "    text-align: left;\n",
       "    font-weight: normal;\n",
       "}\n",
       "table.dataframe tr:nth-child(2) th:empty {\n",
       "    border-left: none;\n",
       "    border-right: 1px dashed #888;\n",
       "}\n",
       "table.dataframe td {\n",
       "    border: 2px solid #ccf;\n",
       "    background-color: #f4f4ff;\n",
       "}\n",
       "</style>"
      ],
      "text/plain": [
       "<IPython.core.display.HTML object>"
      ]
     },
     "execution_count": 2,
     "metadata": {},
     "output_type": "execute_result"
    }
   ],
   "source": [
    "from __future__ import division\n",
    "from __future__ import unicode_literals\n",
    "\n",
    "import logging\n",
    "import os\n",
    "\n",
    "import numpy as np\n",
    "import pandas as pd\n",
    "import torch as tc\n",
    "import torch.utils.data as tc_data\n",
    "import tqdm\n",
    "\n",
    "import preprocessing\n",
    "import model_utils as mu\n",
    "import s2s_autoencoder as s2s\n",
    "import tensorboard as tb\n",
    "\n",
    "from pprint import pprint\n",
    "from matplotlib import pyplot as plt\n",
    "from IPython.display import display, HTML\n",
    "\n",
    "\n",
    "plt.style.use('fivethirtyeight')\n",
    "plt.rcParams['figure.figsize']= (10, 5)\n",
    "\n",
    "pd.options.display.max_colwidth = 75\n",
    "pd.options.display.width = 150\n",
    "pd.options.display.max_columns = 40\n",
    "css = open('/indocker/notebooks/style-table.css').read()\n",
    "HTML('<style>{}</style>'.format(css))"
   ]
  },
  {
   "cell_type": "code",
   "execution_count": 3,
   "metadata": {},
   "outputs": [],
   "source": [
    "%load_ext autoreload\n",
    "%autoreload 2"
   ]
  },
  {
   "cell_type": "markdown",
   "metadata": {},
   "source": [
    "## Setup logging"
   ]
  },
  {
   "cell_type": "code",
   "execution_count": 4,
   "metadata": {},
   "outputs": [],
   "source": [
    "reload(logging)\n",
    "log = logging.getLogger()\n",
    "log.setLevel(logging.DEBUG)\n",
    "\n",
    "myhandler = logging.StreamHandler()\n",
    "myformatter = logging.Formatter(fmt='%(asctime)s:%(name)s:%(levelname)s: %(message)s')\n",
    "myhandler.setFormatter(myformatter)\n",
    "log.addHandler(myhandler)"
   ]
  },
  {
   "cell_type": "markdown",
   "metadata": {},
   "source": [
    "**So we have around 4 million reviews**"
   ]
  },
  {
   "cell_type": "markdown",
   "metadata": {},
   "source": [
    "## Constants"
   ]
  },
  {
   "cell_type": "code",
   "execution_count": 12,
   "metadata": {},
   "outputs": [],
   "source": [
    "REVIEW_FL = '/indocker/data/yelpds11/review.json'\n",
    "W2V_FILE = '/indocker/data/glove.6B/glove.6B.50d-min.txt'\n",
    "N_REVIEWS = 25000\n",
    "MAX_LEN = 20\n",
    "NUM_CPUS = 4"
   ]
  },
  {
   "cell_type": "markdown",
   "metadata": {},
   "source": [
    "## Load data"
   ]
  },
  {
   "cell_type": "code",
   "execution_count": 6,
   "metadata": {},
   "outputs": [
    {
     "name": "stdout",
     "output_type": "stream",
     "text": [
      "{u'business_id': u'0W4lkclzZThpx3V65bVgig',\n",
      " u'cool': 0,\n",
      " u'date': u'2016-05-28',\n",
      " u'funny': 0,\n",
      " u'review_id': u'v0i_UHJMo_hPBq9bxWvW4w',\n",
      " u'stars': 5,\n",
      " u'text': u\"Love the staff, love the meat, love the place. Prepare for a long line around lunch or dinner hours. \\n\\nThey ask you how you want you meat, lean or something maybe, I can't remember. Just say you don't want it too fatty. \\n\\nGet a half sour pickle and a hot pepper. Hand cut french fries too.\",\n",
      " u'useful': 0,\n",
      " u'user_id': u'bv2nCi5Qv5vroFiqKGopiw'}\n"
     ]
    }
   ],
   "source": [
    "import codecs\n",
    "import json\n",
    "# Peek into the review data\n",
    "with codecs.open(REVIEW_FL, encoding='utf-8') as infile:\n",
    "    pprint(json.loads(infile.next()))"
   ]
  },
  {
   "cell_type": "code",
   "execution_count": 7,
   "metadata": {},
   "outputs": [
    {
     "name": "stderr",
     "output_type": "stream",
     "text": [
      "Loading embeddings: 100%|██████████| 9633/9633 [00:00<00:00, 69370.01it/s]\n"
     ]
    }
   ],
   "source": [
    "w2v_data = preprocessing.load_w2v_data(path=W2V_FILE)"
   ]
  },
  {
   "cell_type": "code",
   "execution_count": 8,
   "metadata": {},
   "outputs": [
    {
     "data": {
      "application/vnd.jupyter.widget-view+json": {
       "model_id": "420df3f244fa4cecb0006a46ffab7c56",
       "version_major": 2,
       "version_minor": 0
      },
      "text/html": [
       "<p>Failed to display Jupyter Widget of type <code>HBox</code>.</p>\n",
       "<p>\n",
       "  If you're reading this message in the Jupyter Notebook or JupyterLab Notebook, it may mean\n",
       "  that the widgets JavaScript is still loading. If this message persists, it\n",
       "  likely means that the widgets JavaScript library is either not installed or\n",
       "  not enabled. See the <a href=\"https://ipywidgets.readthedocs.io/en/stable/user_install.html\">Jupyter\n",
       "  Widgets Documentation</a> for setup instructions.\n",
       "</p>\n",
       "<p>\n",
       "  If you're reading this message in another frontend (for example, a static\n",
       "  rendering on GitHub or <a href=\"https://nbviewer.jupyter.org/\">NBViewer</a>),\n",
       "  it may mean that your frontend doesn't currently support widgets.\n",
       "</p>\n"
      ],
      "text/plain": [
       "HBox(children=(IntProgress(value=0, description=u'Iter over reviews.: ', max=25000), HTML(value=u'')))"
      ]
     },
     "metadata": {},
     "output_type": "display_data"
    },
    {
     "data": {
      "application/vnd.jupyter.widget-view+json": {
       "model_id": "f17e070d60dd4a51bc85df6886483822",
       "version_major": 2,
       "version_minor": 0
      },
      "text/html": [
       "<p>Failed to display Jupyter Widget of type <code>HBox</code>.</p>\n",
       "<p>\n",
       "  If you're reading this message in the Jupyter Notebook or JupyterLab Notebook, it may mean\n",
       "  that the widgets JavaScript is still loading. If this message persists, it\n",
       "  likely means that the widgets JavaScript library is either not installed or\n",
       "  not enabled. See the <a href=\"https://ipywidgets.readthedocs.io/en/stable/user_install.html\">Jupyter\n",
       "  Widgets Documentation</a> for setup instructions.\n",
       "</p>\n",
       "<p>\n",
       "  If you're reading this message in another frontend (for example, a static\n",
       "  rendering on GitHub or <a href=\"https://nbviewer.jupyter.org/\">NBViewer</a>),\n",
       "  it may mean that your frontend doesn't currently support widgets.\n",
       "</p>\n"
      ],
      "text/plain": [
       "HBox(children=(IntProgress(value=0, description=u'Iter over reviews.: ', max=25000), HTML(value=u'')))"
      ]
     },
     "metadata": {},
     "output_type": "display_data"
    },
    {
     "name": "stdout",
     "output_type": "stream",
     "text": [
      "\n"
     ]
    },
    {
     "data": {
      "text/html": [
       "<div>\n",
       "<table border=\"1\" class=\"dataframe\">\n",
       "  <thead>\n",
       "    <tr style=\"text-align: right;\">\n",
       "      <th></th>\n",
       "      <th>review_id</th>\n",
       "      <th>sent_num</th>\n",
       "      <th>sent_len</th>\n",
       "      <th>ixs</th>\n",
       "      <th>tokens</th>\n",
       "      <th>text</th>\n",
       "    </tr>\n",
       "  </thead>\n",
       "  <tbody>\n",
       "    <tr>\n",
       "      <th>0</th>\n",
       "      <td>--vWmCoqCGZgcmsn7ELlUQ</td>\n",
       "      <td>0</td>\n",
       "      <td>20</td>\n",
       "      <td>[0, 55, 115, 8, 164, 395, 29, 3012, 947, 25, 1976, 5770, 113, 9, 4274, ...</td>\n",
       "      <td>[&lt;SOS&gt;, we, like, to, get, away, from, vegas, sometimes, by, visiting, ...</td>\n",
       "      <td>We like to get away from Vegas sometimes by visiting Boulder City and c...</td>\n",
       "    </tr>\n",
       "    <tr>\n",
       "      <th>1</th>\n",
       "      <td>--yQsDsWtziQMDSjmCMXrQ</td>\n",
       "      <td>0</td>\n",
       "      <td>20</td>\n",
       "      <td>[0, 39, 233, 175, 8, 32, 4, 3, 3, 112, 24, 13, 170, 3, 3, 8507, 934, 10...</td>\n",
       "      <td>[&lt;SOS&gt;, this, place, used, to, be, the, notorious, p.i.g., now, it, 's,...</td>\n",
       "      <td>This place used to be the Notorious P.I.G. now it 's called Hammered Ho...</td>\n",
       "    </tr>\n",
       "  </tbody>\n",
       "</table>\n",
       "</div>"
      ],
      "text/plain": [
       "                review_id  sent_num  sent_len                                                                         ixs  \\\n",
       "0  --vWmCoqCGZgcmsn7ELlUQ         0        20  [0, 55, 115, 8, 164, 395, 29, 3012, 947, 25, 1976, 5770, 113, 9, 4274, ...   \n",
       "1  --yQsDsWtziQMDSjmCMXrQ         0        20  [0, 39, 233, 175, 8, 32, 4, 3, 3, 112, 24, 13, 170, 3, 3, 8507, 934, 10...   \n",
       "\n",
       "                                                                       tokens  \\\n",
       "0  [<SOS>, we, like, to, get, away, from, vegas, sometimes, by, visiting, ...   \n",
       "1  [<SOS>, this, place, used, to, be, the, notorious, p.i.g., now, it, 's,...   \n",
       "\n",
       "                                                                         text  \n",
       "0  We like to get away from Vegas sometimes by visiting Boulder City and c...  \n",
       "1  This place used to be the Notorious P.I.G. now it 's called Hammered Ho...  "
      ]
     },
     "execution_count": 8,
     "metadata": {},
     "output_type": "execute_result"
    }
   ],
   "source": [
    "split_data = preprocessing.load_and_split_reviews(\n",
    "    review_fl=REVIEW_FL,\n",
    "    lang=w2v_data.lang,\n",
    "    dev_frac=0.2,\n",
    "    test_frac=0.2,\n",
    "    n_reviews=N_REVIEWS,\n",
    "    max_len=MAX_LEN,\n",
    "    min_len=5,\n",
    ")\n",
    "split_data.train.head(2)"
   ]
  },
  {
   "cell_type": "code",
   "execution_count": 9,
   "metadata": {},
   "outputs": [
    {
     "data": {
      "text/plain": [
       "count    22250.000000\n",
       "mean        19.523506\n",
       "std          2.075740\n",
       "min          5.000000\n",
       "25%         20.000000\n",
       "50%         20.000000\n",
       "75%         20.000000\n",
       "max         20.000000\n",
       "Name: sent_len, dtype: float64"
      ]
     },
     "execution_count": 9,
     "metadata": {},
     "output_type": "execute_result"
    }
   ],
   "source": [
    "split_data.train.sent_len.describe()"
   ]
  },
  {
   "cell_type": "markdown",
   "metadata": {},
   "source": [
    "## Training"
   ]
  },
  {
   "cell_type": "code",
   "execution_count": 23,
   "metadata": {},
   "outputs": [],
   "source": [
    "tb.clear_expts()\n",
    "crayon_expt = tb.get_experiment(name='pytorch_ae')"
   ]
  },
  {
   "cell_type": "markdown",
   "metadata": {},
   "source": [
    "### Create model"
   ]
  },
  {
   "cell_type": "code",
   "execution_count": 24,
   "metadata": {},
   "outputs": [
    {
     "data": {
      "text/plain": [
       "Seq2SeqAutoEncoder(\n",
       "  (embedding): Embedding(9637, 50)\n",
       "  (encoder): EncoderRNN(\n",
       "    (embedding): Embedding(9637, 50)\n",
       "    (lstm): LSTM(50, 25, batch_first=True, bidirectional=True)\n",
       "  )\n",
       "  (decoder): DecoderRNN(\n",
       "    (embedding): Embedding(9637, 50)\n",
       "    (lstm): LSTM(100, 50, batch_first=True)\n",
       "    (vocab_softmax): Sequential(\n",
       "      (0): Linear(in_features=50, out_features=9637, bias=True)\n",
       "      (1): LogSoftmax()\n",
       "    )\n",
       "  )\n",
       "  (loss_fn): NLLLoss(\n",
       "  )\n",
       ")"
      ]
     },
     "execution_count": 24,
     "metadata": {},
     "output_type": "execute_result"
    }
   ],
   "source": [
    "s2s_ae = s2s.Seq2SeqAutoEncoder(\n",
    "    lang=w2v_data.lang,\n",
    "    config=s2s.Seq2SeqConfig(\n",
    "        max_len=MAX_LEN,\n",
    "        embed_dim=w2v_data.embedding_matrix.shape[1],\n",
    "        hidden_dim=100,\n",
    "        vocab_size=w2v_data.embedding_matrix.shape[0],\n",
    "        bidirectional=True,\n",
    "        num_layers=1,\n",
    "        lr=0.001,\n",
    "    ),\n",
    "    embedding_matrix=w2v_data.embedding_matrix,\n",
    "    verbose=True,\n",
    ").cuda()\n",
    "s2s_ae.share_memory()"
   ]
  },
  {
   "cell_type": "markdown",
   "metadata": {},
   "source": [
    "### Actually train"
   ]
  },
  {
   "cell_type": "code",
   "execution_count": 31,
   "metadata": {},
   "outputs": [],
   "source": [
    "dataloader = mu.to_dataloader(\n",
    "    train_sent_df=split_data.train,\n",
    "    dev_sent_df=split_data.dev,\n",
    "    batch_size=1024,\n",
    "    num_workers=0,\n",
    "    drop_last=True,\n",
    ")"
   ]
  },
  {
   "cell_type": "code",
   "execution_count": null,
   "metadata": {
    "scrolled": false
   },
   "outputs": [
    {
     "data": {
      "application/vnd.jupyter.widget-view+json": {
       "model_id": "7e8f13334a8e4a849689d8ee13559ad9",
       "version_major": 2,
       "version_minor": 0
      },
      "text/html": [
       "<p>Failed to display Jupyter Widget of type <code>HBox</code>.</p>\n",
       "<p>\n",
       "  If you're reading this message in the Jupyter Notebook or JupyterLab Notebook, it may mean\n",
       "  that the widgets JavaScript is still loading. If this message persists, it\n",
       "  likely means that the widgets JavaScript library is either not installed or\n",
       "  not enabled. See the <a href=\"https://ipywidgets.readthedocs.io/en/stable/user_install.html\">Jupyter\n",
       "  Widgets Documentation</a> for setup instructions.\n",
       "</p>\n",
       "<p>\n",
       "  If you're reading this message in another frontend (for example, a static\n",
       "  rendering on GitHub or <a href=\"https://nbviewer.jupyter.org/\">NBViewer</a>),\n",
       "  it may mean that your frontend doesn't currently support widgets.\n",
       "</p>\n"
      ],
      "text/plain": [
       "HBox(children=(IntProgress(value=0, description=u'Epochs: ', max=10), HTML(value=u'')))"
      ]
     },
     "metadata": {},
     "output_type": "display_data"
    },
    {
     "data": {
      "application/vnd.jupyter.widget-view+json": {
       "model_id": "24374e63dbf74f1f930e3223c3b4406e",
       "version_major": 2,
       "version_minor": 0
      },
      "text/html": [
       "<p>Failed to display Jupyter Widget of type <code>HBox</code>.</p>\n",
       "<p>\n",
       "  If you're reading this message in the Jupyter Notebook or JupyterLab Notebook, it may mean\n",
       "  that the widgets JavaScript is still loading. If this message persists, it\n",
       "  likely means that the widgets JavaScript library is either not installed or\n",
       "  not enabled. See the <a href=\"https://ipywidgets.readthedocs.io/en/stable/user_install.html\">Jupyter\n",
       "  Widgets Documentation</a> for setup instructions.\n",
       "</p>\n",
       "<p>\n",
       "  If you're reading this message in another frontend (for example, a static\n",
       "  rendering on GitHub or <a href=\"https://nbviewer.jupyter.org/\">NBViewer</a>),\n",
       "  it may mean that your frontend doesn't currently support widgets.\n",
       "</p>\n"
      ],
      "text/plain": [
       "HBox(children=(IntProgress(value=0, description=u'Batches: ', max=22), HTML(value=u'')))"
      ]
     },
     "metadata": {},
     "output_type": "display_data"
    },
    {
     "name": "stderr",
     "output_type": "stream",
     "text": [
      "2018-03-17 00:25:29,966:s2s_autoencoder:INFO: \n",
      "\n",
      "---------------------------------------------------------------------\n",
      "\n",
      "EPOCH RESULT: 0\n",
      "=================\n",
      "\n",
      "dev/loss: 187,018.8013\n",
      "grad_by_wts/mean: 6.3550\n",
      "train/loss: 187,965.2744\n",
      "dev/evaluation/compute_accuracy: 0.0054\n",
      "grad_by_wts/std: 938.6041\n",
      "train/evaluation/compute_accuracy: 0.0054\n",
      "\n",
      "---------------------------------------------------------------------\n",
      "\n",
      "\n",
      "2018-03-17 00:25:29,968:s2s_autoencoder:INFO: Saving model to `s2s.pkl`...\n",
      "2018-03-17 00:26:27,537:s2s_autoencoder:INFO: Saved model to `s2s.pkl`.\n"
     ]
    },
    {
     "data": {
      "application/vnd.jupyter.widget-view+json": {
       "model_id": "a7f0cc85ff6146d08f0a465b6ee625ee",
       "version_major": 2,
       "version_minor": 0
      },
      "text/html": [
       "<p>Failed to display Jupyter Widget of type <code>HBox</code>.</p>\n",
       "<p>\n",
       "  If you're reading this message in the Jupyter Notebook or JupyterLab Notebook, it may mean\n",
       "  that the widgets JavaScript is still loading. If this message persists, it\n",
       "  likely means that the widgets JavaScript library is either not installed or\n",
       "  not enabled. See the <a href=\"https://ipywidgets.readthedocs.io/en/stable/user_install.html\">Jupyter\n",
       "  Widgets Documentation</a> for setup instructions.\n",
       "</p>\n",
       "<p>\n",
       "  If you're reading this message in another frontend (for example, a static\n",
       "  rendering on GitHub or <a href=\"https://nbviewer.jupyter.org/\">NBViewer</a>),\n",
       "  it may mean that your frontend doesn't currently support widgets.\n",
       "</p>\n"
      ],
      "text/plain": [
       "HBox(children=(IntProgress(value=0, description=u'Batches: ', max=22), HTML(value=u'')))"
      ]
     },
     "metadata": {},
     "output_type": "display_data"
    },
    {
     "name": "stderr",
     "output_type": "stream",
     "text": [
      "2018-03-17 00:41:15,988:s2s_autoencoder:INFO: \n",
      "\n",
      "---------------------------------------------------------------------\n",
      "\n",
      "EPOCH RESULT: 1\n",
      "=================\n",
      "\n",
      "dev/loss: 164,424.4854\n",
      "grad_by_wts/mean: 8.1475\n",
      "train/loss: 165,269.0688\n",
      "dev/evaluation/compute_accuracy: 0.0096\n",
      "grad_by_wts/std: 2,365.9916\n",
      "train/evaluation/compute_accuracy: 0.0096\n",
      "\n",
      "---------------------------------------------------------------------\n",
      "\n",
      "\n",
      "2018-03-17 00:41:15,989:s2s_autoencoder:INFO: Saving model to `s2s.pkl`...\n",
      "2018-03-17 00:42:14,313:s2s_autoencoder:INFO: Saved model to `s2s.pkl`.\n"
     ]
    },
    {
     "data": {
      "application/vnd.jupyter.widget-view+json": {
       "model_id": "114dfba916c6429297bfa8729bd00fb1",
       "version_major": 2,
       "version_minor": 0
      },
      "text/html": [
       "<p>Failed to display Jupyter Widget of type <code>HBox</code>.</p>\n",
       "<p>\n",
       "  If you're reading this message in the Jupyter Notebook or JupyterLab Notebook, it may mean\n",
       "  that the widgets JavaScript is still loading. If this message persists, it\n",
       "  likely means that the widgets JavaScript library is either not installed or\n",
       "  not enabled. See the <a href=\"https://ipywidgets.readthedocs.io/en/stable/user_install.html\">Jupyter\n",
       "  Widgets Documentation</a> for setup instructions.\n",
       "</p>\n",
       "<p>\n",
       "  If you're reading this message in another frontend (for example, a static\n",
       "  rendering on GitHub or <a href=\"https://nbviewer.jupyter.org/\">NBViewer</a>),\n",
       "  it may mean that your frontend doesn't currently support widgets.\n",
       "</p>\n"
      ],
      "text/plain": [
       "HBox(children=(IntProgress(value=0, description=u'Batches: ', max=22), HTML(value=u'')))"
      ]
     },
     "metadata": {},
     "output_type": "display_data"
    }
   ],
   "source": [
    "s2s.s2s_fit(\n",
    "    s2s_model=s2s_ae,\n",
    "    dataloader=dataloader,\n",
    "    save_epoch_freq=1,\n",
    "    model_save_path='s2s.pkl',\n",
    "    epochs=10,\n",
    "    teacher_forcing=0.5,\n",
    "    tb_expt=crayon_expt,\n",
    ")\n"
   ]
  },
  {
   "cell_type": "code",
   "execution_count": null,
   "metadata": {},
   "outputs": [],
   "source": [
    "s2s_ae.decode_sentences(\n",
    "    s2s_ae.encode_sentences(sents=train_sents[0])\n",
    ")"
   ]
  },
  {
   "cell_type": "code",
   "execution_count": null,
   "metadata": {},
   "outputs": [],
   "source": [
    "cudable_variable(\n",
    "    tc.LongTensor([[1,2,3,5], [23,3,54,5]]),\n",
    "    requires_grad=False,\n",
    ")"
   ]
  }
 ],
 "metadata": {
  "kernelspec": {
   "display_name": "Python 2",
   "language": "python",
   "name": "python2"
  },
  "language_info": {
   "codemirror_mode": {
    "name": "ipython",
    "version": 2
   },
   "file_extension": ".py",
   "mimetype": "text/x-python",
   "name": "python",
   "nbconvert_exporter": "python",
   "pygments_lexer": "ipython2",
   "version": "2.7.6"
  },
  "widgets": {
   "state": {
    "2208bbe700f04169bfddaaea3e5847da": {
     "views": [
      {
       "cell_index": 17
      }
     ]
    },
    "93ab20508bdb44438cbde4c6bacfc592": {
     "views": [
      {
       "cell_index": 21
      }
     ]
    },
    "c23df3b5991c4f51af2f0c6b9fb48b1a": {
     "views": [
      {
       "cell_index": 21
      }
     ]
    }
   },
   "version": "1.2.0"
  }
 },
 "nbformat": 4,
 "nbformat_minor": 1
}
