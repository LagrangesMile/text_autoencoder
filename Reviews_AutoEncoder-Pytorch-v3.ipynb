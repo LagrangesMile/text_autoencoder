{
 "cells": [
  {
   "cell_type": "code",
   "execution_count": 1,
   "metadata": {},
   "outputs": [],
   "source": [
    "%matplotlib inline"
   ]
  },
  {
   "cell_type": "code",
   "execution_count": 2,
   "metadata": {},
   "outputs": [
    {
     "name": "stdout",
     "output_type": "stream",
     "text": [
      "is_cuda: False\n"
     ]
    },
    {
     "data": {
      "text/html": [
       "<style>body {\n",
       "    margin: 0;\n",
       "    font-family: Helvetica;\n",
       "}\n",
       "table.dataframe {\n",
       "    border-collapse: collapse;\n",
       "    border: none;\n",
       "}\n",
       "table.dataframe tr {\n",
       "    border: none;\n",
       "}\n",
       "table.dataframe td, table.dataframe th {\n",
       "    margin: 0;\n",
       "    border: 1px solid white;\n",
       "    padding-left: 0.25em;\n",
       "    padding-right: 0.25em;\n",
       "}\n",
       "table.dataframe th:not(:empty) {\n",
       "    background-color: #fec;\n",
       "    text-align: left;\n",
       "    font-weight: normal;\n",
       "}\n",
       "table.dataframe tr:nth-child(2) th:empty {\n",
       "    border-left: none;\n",
       "    border-right: 1px dashed #888;\n",
       "}\n",
       "table.dataframe td {\n",
       "    border: 2px solid #ccf;\n",
       "    background-color: #f4f4ff;\n",
       "}\n",
       "</style>"
      ],
      "text/plain": [
       "<IPython.core.display.HTML object>"
      ]
     },
     "execution_count": 2,
     "metadata": {},
     "output_type": "execute_result"
    }
   ],
   "source": [
    "from __future__ import division\n",
    "from __future__ import unicode_literals\n",
    "\n",
    "import logging\n",
    "import os\n",
    "\n",
    "import numpy as np\n",
    "import pandas as pd\n",
    "import torch as tc\n",
    "import torch.utils.data as tc_data\n",
    "import tqdm\n",
    "\n",
    "import preprocessing\n",
    "import model_utils as mu\n",
    "import s2s_autoencoder as s2s\n",
    "import tensorboard as tb\n",
    "\n",
    "from pprint import pprint\n",
    "from matplotlib import pyplot as plt\n",
    "from IPython.display import display, HTML\n",
    "\n",
    "\n",
    "plt.style.use('fivethirtyeight')\n",
    "plt.rcParams['figure.figsize']= (10, 5)\n",
    "\n",
    "pd.options.display.max_colwidth = 75\n",
    "pd.options.display.width = 150\n",
    "pd.options.display.max_columns = 40\n",
    "css = open('/nail/home/visp/ipython/style-table.css').read()\n",
    "HTML('<style>{}</style>'.format(css))"
   ]
  },
  {
   "cell_type": "code",
   "execution_count": 3,
   "metadata": {},
   "outputs": [],
   "source": [
    "#%load_ext autoreload\n",
    "#%autoreload 2"
   ]
  },
  {
   "cell_type": "markdown",
   "metadata": {},
   "source": [
    "## Setup logging"
   ]
  },
  {
   "cell_type": "code",
   "execution_count": 4,
   "metadata": {},
   "outputs": [],
   "source": [
    "reload(logging)\n",
    "log = logging.getLogger()\n",
    "log.setLevel(logging.DEBUG)\n",
    "\n",
    "myhandler = logging.StreamHandler()\n",
    "myformatter = logging.Formatter(fmt='%(asctime)s:%(name)s:%(levelname)s: %(message)s')\n",
    "myhandler.setFormatter(myformatter)\n",
    "log.addHandler(myhandler)"
   ]
  },
  {
   "cell_type": "code",
   "execution_count": 5,
   "metadata": {},
   "outputs": [
    {
     "name": "stdout",
     "output_type": "stream",
     "text": [
      ".\r\n",
      "├── PyTorch-Tutorials-EncDec.ipynb\r\n",
      "├── PyTorch-Tutorials.ipynb\r\n",
      "├── Reviews_AutoEncoder-Pytorch-v2.ipynb\r\n",
      "├── Reviews_AutoEncoder-Pytorch-v3.ipynb\r\n",
      "├── Reviews_AutoEncoder-Pytorch.ipynb\r\n",
      "├── Reviews_AutoEncoder_Keras.ipynb\r\n",
      "├── data\r\n",
      "│   ├── glove.6B\r\n",
      "│   │   ├── glove.6B.100d.txt\r\n",
      "│   │   ├── glove.6B.200d.txt\r\n",
      "│   │   ├── glove.6B.50d-min.txt\r\n",
      "│   │   └── glove.6B.50d.txt\r\n",
      "│   └── yelpds11\r\n",
      "│       ├── Dataset_Challenge_Dataset_Agreement.pdf\r\n",
      "│       ├── Yelp_Dataset_Challenge_Round_11.pdf\r\n",
      "│       ├── business.json\r\n",
      "│       ├── checkin.json\r\n",
      "│       ├── photos.json\r\n",
      "│       ├── review.json\r\n",
      "│       ├── tip.json\r\n",
      "│       └── user.json\r\n",
      "├── decoder.py\r\n",
      "├── decoder.pyc\r\n",
      "├── embedder.py\r\n",
      "├── encoder.py\r\n",
      "├── encoder.pyc\r\n",
      "├── extract_review_text.py\r\n",
      "├── model_utils.py\r\n",
      "├── model_utils.pyc\r\n",
      "├── most-common-words.ipynb\r\n",
      "├── neural-model-report.pdf\r\n",
      "├── preprocessing.py\r\n",
      "├── preprocessing.pyc\r\n",
      "├── s2s.pkl\r\n",
      "├── s2s_autoencoder.py\r\n",
      "├── s2s_autoencoder.pyc\r\n",
      "├── tensorboard.py\r\n",
      "├── tensorboard.pyc\r\n",
      "└── yelp_dataset.tar\r\n",
      "\r\n",
      "3 directories, 36 files\r\n"
     ]
    }
   ],
   "source": [
    "!tree "
   ]
  },
  {
   "cell_type": "markdown",
   "metadata": {},
   "source": [
    "**So we have around 4 million reviews**"
   ]
  },
  {
   "cell_type": "markdown",
   "metadata": {},
   "source": [
    "## Constants"
   ]
  },
  {
   "cell_type": "code",
   "execution_count": 7,
   "metadata": {},
   "outputs": [],
   "source": [
    "REVIEW_FL = 'data/yelpds11/review.json'\n",
    "W2V_FILE = 'data/glove.6B/glove.6B.50d-min.txt'\n",
    "N_REVIEWS = 10\n",
    "MAX_LEN = 20"
   ]
  },
  {
   "cell_type": "markdown",
   "metadata": {},
   "source": [
    "## Load data"
   ]
  },
  {
   "cell_type": "code",
   "execution_count": 8,
   "metadata": {},
   "outputs": [
    {
     "name": "stdout",
     "output_type": "stream",
     "text": [
      "{u'business_id': u'0W4lkclzZThpx3V65bVgig',\n",
      " u'cool': 0,\n",
      " u'date': u'2016-05-28',\n",
      " u'funny': 0,\n",
      " u'review_id': u'v0i_UHJMo_hPBq9bxWvW4w',\n",
      " u'stars': 5,\n",
      " u'text': u\"Love the staff, love the meat, love the place. Prepare for a long line around lunch or dinner hours. \\n\\nThey ask you how you want you meat, lean or something maybe, I can't remember. Just say you don't want it too fatty. \\n\\nGet a half sour pickle and a hot pepper. Hand cut french fries too.\",\n",
      " u'useful': 0,\n",
      " u'user_id': u'bv2nCi5Qv5vroFiqKGopiw'}\n"
     ]
    }
   ],
   "source": [
    "import codecs\n",
    "import json\n",
    "# Peek into the review data\n",
    "with codecs.open(REVIEW_FL, encoding='utf-8') as infile:\n",
    "    pprint(json.loads(infile.next()))"
   ]
  },
  {
   "cell_type": "code",
   "execution_count": 10,
   "metadata": {},
   "outputs": [
    {
     "name": "stderr",
     "output_type": "stream",
     "text": [
      "Loading embeddings: 100%|██████████| 9633/9633 [00:00<00:00, 55397.05it/s]\n",
      "preprocessing.py:84: RuntimeWarning: covariance is not positive-semidefinite.\n",
      "  size=n_special_tokens,\n"
     ]
    }
   ],
   "source": [
    "w2v_data = preprocessing.load_w2v_data(path=W2V_FILE)"
   ]
  },
  {
   "cell_type": "code",
   "execution_count": 11,
   "metadata": {},
   "outputs": [
    {
     "data": {
      "application/vnd.jupyter.widget-view+json": {
       "model_id": "b6e9aa6b61b5400685356dad8b55787f",
       "version_major": 2,
       "version_minor": 0
      },
      "text/html": [
       "<p>Failed to display Jupyter Widget of type <code>HBox</code>.</p>\n",
       "<p>\n",
       "  If you're reading this message in Jupyter Notebook or JupyterLab, it may mean\n",
       "  that the widgets JavaScript is still loading. If this message persists, it\n",
       "  likely means that the widgets JavaScript library is either not installed or\n",
       "  not enabled. See the <a href=\"https://ipywidgets.readthedocs.io/en/stable/user_install.html\">Jupyter\n",
       "  Widgets Documentation</a> for setup instructions.\n",
       "</p>\n",
       "<p>\n",
       "  If you're reading this message in another notebook frontend (for example, a static\n",
       "  rendering on GitHub or <a href=\"https://nbviewer.jupyter.org/\">NBViewer</a>),\n",
       "  it may mean that your frontend doesn't currently support widgets.\n",
       "</p>\n"
      ],
      "text/plain": [
       "HBox(children=(IntProgress(value=0, description=u'Iter over reviews.: ', max=10), HTML(value=u'')))"
      ]
     },
     "metadata": {},
     "output_type": "display_data"
    },
    {
     "data": {
      "application/vnd.jupyter.widget-view+json": {
       "model_id": "4fffe45c130f4145a87dcdcadbdd7b81",
       "version_major": 2,
       "version_minor": 0
      },
      "text/html": [
       "<p>Failed to display Jupyter Widget of type <code>HBox</code>.</p>\n",
       "<p>\n",
       "  If you're reading this message in Jupyter Notebook or JupyterLab, it may mean\n",
       "  that the widgets JavaScript is still loading. If this message persists, it\n",
       "  likely means that the widgets JavaScript library is either not installed or\n",
       "  not enabled. See the <a href=\"https://ipywidgets.readthedocs.io/en/stable/user_install.html\">Jupyter\n",
       "  Widgets Documentation</a> for setup instructions.\n",
       "</p>\n",
       "<p>\n",
       "  If you're reading this message in another notebook frontend (for example, a static\n",
       "  rendering on GitHub or <a href=\"https://nbviewer.jupyter.org/\">NBViewer</a>),\n",
       "  it may mean that your frontend doesn't currently support widgets.\n",
       "</p>\n"
      ],
      "text/plain": [
       "HBox(children=(IntProgress(value=0, description=u'Iter over reviews.: ', max=10), HTML(value=u'')))"
      ]
     },
     "metadata": {},
     "output_type": "display_data"
    },
    {
     "name": "stdout",
     "output_type": "stream",
     "text": [
      "\n"
     ]
    },
    {
     "name": "stderr",
     "output_type": "stream",
     "text": [
      "2018-03-16 06:33:49,523:root:INFO: Peek into the loaded dataset: `                review_id  sent_num  sent_len                                                                         ixs  \\\n",
      "0  8UIishPUD92hXtScSga_gw         0        11  [0, 632, 2420, 327, 39, 2565, 161, 9, 5067, 61, 24, 6, 1, 2, 2, 2, 2, 2...   \n",
      "1  8UIishPUD92hXtScSga_gw         1        14  [0, 7877, 9, 43, 1078, 114, 4, 755, 8, 759, 39, 233, 68, 6, 1, 2, 2, 2,...   \n",
      "\n",
      "                                                                       tokens                                                         text  \n",
      "0  [<SOS>, always, drove, past, this, coffee, house, and, wondered, about,...  Always drove past this coffee house and wondered about it .  \n",
      "1  [<SOS>, bf, and, i, finally, made, the, stop, to, try, this, place, out...  BF and I finally made the stop to try this place out . \\n\\n  `\n"
     ]
    },
    {
     "data": {
      "text/html": [
       "<div>\n",
       "<table border=\"1\" class=\"dataframe\">\n",
       "  <thead>\n",
       "    <tr style=\"text-align: right;\">\n",
       "      <th></th>\n",
       "      <th>review_id</th>\n",
       "      <th>sent_num</th>\n",
       "      <th>sent_len</th>\n",
       "      <th>ixs</th>\n",
       "      <th>tokens</th>\n",
       "      <th>text</th>\n",
       "    </tr>\n",
       "  </thead>\n",
       "  <tbody>\n",
       "    <tr>\n",
       "      <th>0</th>\n",
       "      <td>8UIishPUD92hXtScSga_gw</td>\n",
       "      <td>0</td>\n",
       "      <td>11</td>\n",
       "      <td>[0, 632, 2420, 327, 39, 2565, 161, 9, 5067, 61, 24, 6, 1, 2, 2, 2, 2, 2...</td>\n",
       "      <td>[&lt;SOS&gt;, always, drove, past, this, coffee, house, and, wondered, about,...</td>\n",
       "      <td>Always drove past this coffee house and wondered about it .</td>\n",
       "    </tr>\n",
       "    <tr>\n",
       "      <th>1</th>\n",
       "      <td>8UIishPUD92hXtScSga_gw</td>\n",
       "      <td>1</td>\n",
       "      <td>14</td>\n",
       "      <td>[0, 7877, 9, 43, 1078, 114, 4, 755, 8, 759, 39, 233, 68, 6, 1, 2, 2, 2,...</td>\n",
       "      <td>[&lt;SOS&gt;, bf, and, i, finally, made, the, stop, to, try, this, place, out...</td>\n",
       "      <td>BF and I finally made the stop to try this place out . \\n\\n</td>\n",
       "    </tr>\n",
       "  </tbody>\n",
       "</table>\n",
       "</div>"
      ],
      "text/plain": [
       "                review_id  sent_num  sent_len                                                                         ixs  \\\n",
       "0  8UIishPUD92hXtScSga_gw         0        11  [0, 632, 2420, 327, 39, 2565, 161, 9, 5067, 61, 24, 6, 1, 2, 2, 2, 2, 2...   \n",
       "1  8UIishPUD92hXtScSga_gw         1        14  [0, 7877, 9, 43, 1078, 114, 4, 755, 8, 759, 39, 233, 68, 6, 1, 2, 2, 2,...   \n",
       "\n",
       "                                                                       tokens                                                         text  \n",
       "0  [<SOS>, always, drove, past, this, coffee, house, and, wondered, about,...  Always drove past this coffee house and wondered about it .  \n",
       "1  [<SOS>, bf, and, i, finally, made, the, stop, to, try, this, place, out...  BF and I finally made the stop to try this place out . \\n\\n  "
      ]
     },
     "execution_count": 11,
     "metadata": {},
     "output_type": "execute_result"
    }
   ],
   "source": [
    "split_data = preprocessing.load_and_split_reviews(\n",
    "    review_fl=REVIEW_FL,\n",
    "    lang=w2v_data.lang,\n",
    "    dev_frac=0.2,\n",
    "    test_frac=0.2,\n",
    "    n_reviews=N_REVIEWS,\n",
    "    max_len=MAX_LEN,\n",
    "    min_len=5,\n",
    ")\n",
    "log.info('Peek into the loaded dataset: `{df}`'.format(df=split_data.train.head(2)))\n",
    "split_data.train.head(2)"
   ]
  },
  {
   "cell_type": "code",
   "execution_count": 12,
   "metadata": {},
   "outputs": [
    {
     "data": {
      "text/plain": [
       "count    32.00000\n",
       "mean     14.18750\n",
       "std       4.99314\n",
       "min       6.00000\n",
       "25%      10.75000\n",
       "50%      12.50000\n",
       "75%      20.00000\n",
       "max      20.00000\n",
       "Name: sent_len, dtype: float64"
      ]
     },
     "execution_count": 12,
     "metadata": {},
     "output_type": "execute_result"
    }
   ],
   "source": [
    "split_data.train.sent_len.describe()"
   ]
  },
  {
   "cell_type": "markdown",
   "metadata": {},
   "source": [
    "## Training"
   ]
  },
  {
   "cell_type": "code",
   "execution_count": 13,
   "metadata": {},
   "outputs": [],
   "source": [
    "tb.clear_expts()\n",
    "crayon_expt = tb.get_experiment(name='pytorch_ae')"
   ]
  },
  {
   "cell_type": "markdown",
   "metadata": {},
   "source": [
    "### Create model"
   ]
  },
  {
   "cell_type": "code",
   "execution_count": 14,
   "metadata": {},
   "outputs": [],
   "source": [
    "s2s_ae = s2s.Seq2SeqAutoEncoder(\n",
    "    lang=w2v_data.lang,\n",
    "    config=s2s.Seq2SeqConfig(\n",
    "        max_len=MAX_LEN,\n",
    "        embed_dim=w2v_data.embedding_matrix.shape[1],\n",
    "        hidden_dim=40,\n",
    "        vocab_size=w2v_data.embedding_matrix.shape[0],\n",
    "        bidirectional=True,\n",
    "        num_layers=1,\n",
    "        lr=0.001,\n",
    "    ),\n",
    "    embedding_matrix=w2v_data.embedding_matrix,\n",
    "    verbose=True,\n",
    ")"
   ]
  },
  {
   "cell_type": "markdown",
   "metadata": {},
   "source": [
    "### Actually train"
   ]
  },
  {
   "cell_type": "code",
   "execution_count": 15,
   "metadata": {},
   "outputs": [],
   "source": [
    "dataloader = mu.to_dataloader(\n",
    "    train_sent_df=split_data.train,\n",
    "    dev_sent_df=split_data.dev,\n",
    "    batch_size=10,\n",
    "    num_workers=4,\n",
    ")"
   ]
  },
  {
   "cell_type": "code",
   "execution_count": 16,
   "metadata": {
    "scrolled": false
   },
   "outputs": [
    {
     "data": {
      "application/vnd.jupyter.widget-view+json": {
       "model_id": "8433b5dff4fd4890b46258b3ce6bd0dd",
       "version_major": 2,
       "version_minor": 0
      },
      "text/html": [
       "<p>Failed to display Jupyter Widget of type <code>HBox</code>.</p>\n",
       "<p>\n",
       "  If you're reading this message in Jupyter Notebook or JupyterLab, it may mean\n",
       "  that the widgets JavaScript is still loading. If this message persists, it\n",
       "  likely means that the widgets JavaScript library is either not installed or\n",
       "  not enabled. See the <a href=\"https://ipywidgets.readthedocs.io/en/stable/user_install.html\">Jupyter\n",
       "  Widgets Documentation</a> for setup instructions.\n",
       "</p>\n",
       "<p>\n",
       "  If you're reading this message in another notebook frontend (for example, a static\n",
       "  rendering on GitHub or <a href=\"https://nbviewer.jupyter.org/\">NBViewer</a>),\n",
       "  it may mean that your frontend doesn't currently support widgets.\n",
       "</p>\n"
      ],
      "text/plain": [
       "HBox(children=(IntProgress(value=0, description=u'Epochs: ', max=3), HTML(value=u'')))"
      ]
     },
     "metadata": {},
     "output_type": "display_data"
    },
    {
     "data": {
      "application/vnd.jupyter.widget-view+json": {
       "model_id": "b054a4f12d384eb695e410167b25af4a",
       "version_major": 2,
       "version_minor": 0
      },
      "text/html": [
       "<p>Failed to display Jupyter Widget of type <code>HBox</code>.</p>\n",
       "<p>\n",
       "  If you're reading this message in Jupyter Notebook or JupyterLab, it may mean\n",
       "  that the widgets JavaScript is still loading. If this message persists, it\n",
       "  likely means that the widgets JavaScript library is either not installed or\n",
       "  not enabled. See the <a href=\"https://ipywidgets.readthedocs.io/en/stable/user_install.html\">Jupyter\n",
       "  Widgets Documentation</a> for setup instructions.\n",
       "</p>\n",
       "<p>\n",
       "  If you're reading this message in another notebook frontend (for example, a static\n",
       "  rendering on GitHub or <a href=\"https://nbviewer.jupyter.org/\">NBViewer</a>),\n",
       "  it may mean that your frontend doesn't currently support widgets.\n",
       "</p>\n"
      ],
      "text/plain": [
       "HBox(children=(IntProgress(value=0, description=u'Batches: ', max=4), HTML(value=u'')))"
      ]
     },
     "metadata": {},
     "output_type": "display_data"
    },
    {
     "data": {
      "application/vnd.jupyter.widget-view+json": {
       "model_id": "024d60761d924dc894fc314483cc60a2",
       "version_major": 2,
       "version_minor": 0
      },
      "text/html": [
       "<p>Failed to display Jupyter Widget of type <code>HBox</code>.</p>\n",
       "<p>\n",
       "  If you're reading this message in Jupyter Notebook or JupyterLab, it may mean\n",
       "  that the widgets JavaScript is still loading. If this message persists, it\n",
       "  likely means that the widgets JavaScript library is either not installed or\n",
       "  not enabled. See the <a href=\"https://ipywidgets.readthedocs.io/en/stable/user_install.html\">Jupyter\n",
       "  Widgets Documentation</a> for setup instructions.\n",
       "</p>\n",
       "<p>\n",
       "  If you're reading this message in another notebook frontend (for example, a static\n",
       "  rendering on GitHub or <a href=\"https://nbviewer.jupyter.org/\">NBViewer</a>),\n",
       "  it may mean that your frontend doesn't currently support widgets.\n",
       "</p>\n"
      ],
      "text/plain": [
       "HBox(children=(IntProgress(value=0, description=u'Batches: ', max=4), HTML(value=u'')))"
      ]
     },
     "metadata": {},
     "output_type": "display_data"
    },
    {
     "data": {
      "application/vnd.jupyter.widget-view+json": {
       "model_id": "95cbe0407a93479eadd35089af936774",
       "version_major": 2,
       "version_minor": 0
      },
      "text/html": [
       "<p>Failed to display Jupyter Widget of type <code>HBox</code>.</p>\n",
       "<p>\n",
       "  If you're reading this message in Jupyter Notebook or JupyterLab, it may mean\n",
       "  that the widgets JavaScript is still loading. If this message persists, it\n",
       "  likely means that the widgets JavaScript library is either not installed or\n",
       "  not enabled. See the <a href=\"https://ipywidgets.readthedocs.io/en/stable/user_install.html\">Jupyter\n",
       "  Widgets Documentation</a> for setup instructions.\n",
       "</p>\n",
       "<p>\n",
       "  If you're reading this message in another notebook frontend (for example, a static\n",
       "  rendering on GitHub or <a href=\"https://nbviewer.jupyter.org/\">NBViewer</a>),\n",
       "  it may mean that your frontend doesn't currently support widgets.\n",
       "</p>\n"
      ],
      "text/plain": [
       "HBox(children=(IntProgress(value=0, description=u'Batches: ', max=4), HTML(value=u'')))"
      ]
     },
     "metadata": {},
     "output_type": "display_data"
    },
    {
     "name": "stdout",
     "output_type": "stream",
     "text": [
      "\n"
     ]
    },
    {
     "data": {
      "text/plain": [
       "[{'grad_by_wts': {'mean': 0.012478409655854991, 'std': 4.8680703734682691},\n",
       "  'split_metrics_map': {'dev': {'evaluation/compute_accuracy': 0.0,\n",
       "    'loss': 293.7275085449219},\n",
       "   'train': {'evaluation/compute_accuracy': 0.0, 'loss': 293.5926742553711}}},\n",
       " {'grad_by_wts': {'mean': 0.012139479214713816, 'std': 4.2570152124016323},\n",
       "  'split_metrics_map': {'dev': {'evaluation/compute_accuracy': 0.0,\n",
       "    'loss': 293.3723945617676},\n",
       "   'train': {'evaluation/compute_accuracy': 0.0, 'loss': 292.71355056762695}}},\n",
       " {'grad_by_wts': {'mean': 0.0091891739237921211, 'std': 1.0752866564693626},\n",
       "  'split_metrics_map': {'dev': {'evaluation/compute_accuracy': 0.0,\n",
       "    'loss': 293.1985454559326},\n",
       "   'train': {'evaluation/compute_accuracy': 0.0, 'loss': 291.97930908203125}}}]"
      ]
     },
     "execution_count": 16,
     "metadata": {},
     "output_type": "execute_result"
    }
   ],
   "source": [
    "s2s.s2s_fit(\n",
    "    s2s_model=s2s_ae,\n",
    "    dataloader=dataloader,\n",
    "    save_epoch_freq=100,\n",
    "    model_save_path='s2s.pkl',\n",
    "    epochs=3,\n",
    "    teacher_forcing=0.5,\n",
    "    tb_expt=crayon_expt,\n",
    ")"
   ]
  },
  {
   "cell_type": "code",
   "execution_count": null,
   "metadata": {},
   "outputs": [],
   "source": [
    "s2s_ae.decode_sentences(\n",
    "    s2s_ae.encode_sentences(sents=train_sents[0])\n",
    ")"
   ]
  },
  {
   "cell_type": "code",
   "execution_count": null,
   "metadata": {},
   "outputs": [],
   "source": []
  },
  {
   "cell_type": "code",
   "execution_count": null,
   "metadata": {},
   "outputs": [],
   "source": []
  }
 ],
 "metadata": {
  "kernelspec": {
   "display_name": "Python 2",
   "language": "python",
   "name": "python2"
  },
  "language_info": {
   "codemirror_mode": {
    "name": "ipython",
    "version": 2
   },
   "file_extension": ".py",
   "mimetype": "text/x-python",
   "name": "python",
   "nbconvert_exporter": "python",
   "pygments_lexer": "ipython2",
   "version": "2.7.10"
  },
  "widgets": {
   "state": {
    "2208bbe700f04169bfddaaea3e5847da": {
     "views": [
      {
       "cell_index": 17
      }
     ]
    },
    "93ab20508bdb44438cbde4c6bacfc592": {
     "views": [
      {
       "cell_index": 21
      }
     ]
    },
    "c23df3b5991c4f51af2f0c6b9fb48b1a": {
     "views": [
      {
       "cell_index": 21
      }
     ]
    }
   },
   "version": "1.2.0"
  }
 },
 "nbformat": 4,
 "nbformat_minor": 1
}
